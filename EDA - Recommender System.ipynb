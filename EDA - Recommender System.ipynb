{
 "cells": [
  {
   "cell_type": "markdown",
   "id": "911b89a8",
   "metadata": {},
   "source": [
    "# WEEK 2 - G2M insight for Cab Investment firm ( Must for all Specialization)"
   ]
  },
  {
   "cell_type": "markdown",
   "id": "8f975380",
   "metadata": {},
   "source": [
    "2 weeks time will be provided to complete this use case.\n",
    "\n",
    "In Week2 you will be working on code piece while in 3rd week you will be working on model building (if you are planing) and presentation.\n",
    "\n",
    "Presentation should be presented in the template provided to you in the use case and it should be professional ( remember your audience is non technical and leadership team).\n",
    "\n",
    "Upload your presentation and code on the github or any other code repo and share the URL with us.\n",
    "\n",
    " \n",
    "\n",
    "Deliverables of Week 2 are:\n",
    "\n",
    "1. EDA Notebook,\n",
    "\n",
    "2. Data Intake report\n",
    "\n",
    "3. EDA recommendation and hypothesis results\n",
    "\n",
    " \n",
    "\n",
    "Model building and deployment is optional."
   ]
  },
  {
   "cell_type": "markdown",
   "id": "114347d1",
   "metadata": {},
   "source": [
    "#### Imports Libraries"
   ]
  },
  {
   "cell_type": "code",
   "execution_count": 3,
   "id": "cdd6fb4d",
   "metadata": {},
   "outputs": [],
   "source": [
    "import pandas as pd\n",
    "import datetime\n",
    "import numpy as np\n",
    "\n",
    "# Visualization\n",
    "import matplotlib.pyplot as plt\n",
    "import seaborn as sns\n",
    "import warnings \n",
    "warnings.filterwarnings(\"ignore\")"
   ]
  },
  {
   "cell_type": "markdown",
   "id": "130f18cf",
   "metadata": {},
   "source": [
    "--------------"
   ]
  },
  {
   "cell_type": "markdown",
   "id": "28d6c8db",
   "metadata": {},
   "source": [
    "# Recommender System"
   ]
  },
  {
   "cell_type": "code",
   "execution_count": 4,
   "id": "c19c3654",
   "metadata": {},
   "outputs": [],
   "source": [
    "df = pd.read_csv(\"df_last_one__saturday.csv\")"
   ]
  },
  {
   "cell_type": "code",
   "execution_count": 5,
   "id": "a649f924",
   "metadata": {},
   "outputs": [
    {
     "data": {
      "text/html": [
       "<div>\n",
       "<style scoped>\n",
       "    .dataframe tbody tr th:only-of-type {\n",
       "        vertical-align: middle;\n",
       "    }\n",
       "\n",
       "    .dataframe tbody tr th {\n",
       "        vertical-align: top;\n",
       "    }\n",
       "\n",
       "    .dataframe thead th {\n",
       "        text-align: right;\n",
       "    }\n",
       "</style>\n",
       "<table border=\"1\" class=\"dataframe\">\n",
       "  <thead>\n",
       "    <tr style=\"text-align: right;\">\n",
       "      <th></th>\n",
       "      <th>Transaction ID</th>\n",
       "      <th>Date of Travel</th>\n",
       "      <th>Company</th>\n",
       "      <th>City</th>\n",
       "      <th>KM Travelled</th>\n",
       "      <th>Price Charged</th>\n",
       "      <th>Cost of Trip</th>\n",
       "      <th>Customer ID</th>\n",
       "      <th>Payment_Mode</th>\n",
       "      <th>Gender</th>\n",
       "      <th>Age</th>\n",
       "      <th>Income (USD/Month)</th>\n",
       "      <th>Day</th>\n",
       "      <th>Month</th>\n",
       "      <th>Year</th>\n",
       "      <th>Type</th>\n",
       "      <th>Price Per KM</th>\n",
       "      <th>Profit</th>\n",
       "      <th>Age Group</th>\n",
       "    </tr>\n",
       "  </thead>\n",
       "  <tbody>\n",
       "    <tr>\n",
       "      <th>0</th>\n",
       "      <td>10000011</td>\n",
       "      <td>2016-01-08</td>\n",
       "      <td>Pink Cab</td>\n",
       "      <td>Atlanta</td>\n",
       "      <td>30.45</td>\n",
       "      <td>370.95</td>\n",
       "      <td>313.6350</td>\n",
       "      <td>29290</td>\n",
       "      <td>Card</td>\n",
       "      <td>Male</td>\n",
       "      <td>28</td>\n",
       "      <td>10813</td>\n",
       "      <td>8</td>\n",
       "      <td>1</td>\n",
       "      <td>2016</td>\n",
       "      <td>Rain</td>\n",
       "      <td>12.182266</td>\n",
       "      <td>57.3150</td>\n",
       "      <td>25-35</td>\n",
       "    </tr>\n",
       "    <tr>\n",
       "      <th>1</th>\n",
       "      <td>10351127</td>\n",
       "      <td>2018-07-21</td>\n",
       "      <td>Yellow Cab</td>\n",
       "      <td>Atlanta</td>\n",
       "      <td>26.19</td>\n",
       "      <td>598.70</td>\n",
       "      <td>317.4228</td>\n",
       "      <td>29290</td>\n",
       "      <td>Cash</td>\n",
       "      <td>Male</td>\n",
       "      <td>28</td>\n",
       "      <td>10813</td>\n",
       "      <td>21</td>\n",
       "      <td>7</td>\n",
       "      <td>2018</td>\n",
       "      <td>Rain</td>\n",
       "      <td>22.859870</td>\n",
       "      <td>281.2772</td>\n",
       "      <td>25-35</td>\n",
       "    </tr>\n",
       "    <tr>\n",
       "      <th>2</th>\n",
       "      <td>10412921</td>\n",
       "      <td>2018-11-23</td>\n",
       "      <td>Yellow Cab</td>\n",
       "      <td>Atlanta</td>\n",
       "      <td>42.55</td>\n",
       "      <td>792.05</td>\n",
       "      <td>597.4020</td>\n",
       "      <td>29290</td>\n",
       "      <td>Card</td>\n",
       "      <td>Male</td>\n",
       "      <td>28</td>\n",
       "      <td>10813</td>\n",
       "      <td>23</td>\n",
       "      <td>11</td>\n",
       "      <td>2018</td>\n",
       "      <td>Rain</td>\n",
       "      <td>18.614571</td>\n",
       "      <td>194.6480</td>\n",
       "      <td>25-35</td>\n",
       "    </tr>\n",
       "    <tr>\n",
       "      <th>3</th>\n",
       "      <td>10000012</td>\n",
       "      <td>2016-01-06</td>\n",
       "      <td>Pink Cab</td>\n",
       "      <td>Atlanta</td>\n",
       "      <td>28.62</td>\n",
       "      <td>358.52</td>\n",
       "      <td>334.8540</td>\n",
       "      <td>27703</td>\n",
       "      <td>Card</td>\n",
       "      <td>Male</td>\n",
       "      <td>27</td>\n",
       "      <td>9237</td>\n",
       "      <td>6</td>\n",
       "      <td>1</td>\n",
       "      <td>2016</td>\n",
       "      <td>Rain</td>\n",
       "      <td>12.526904</td>\n",
       "      <td>23.6660</td>\n",
       "      <td>25-35</td>\n",
       "    </tr>\n",
       "    <tr>\n",
       "      <th>4</th>\n",
       "      <td>10320494</td>\n",
       "      <td>2018-04-21</td>\n",
       "      <td>Yellow Cab</td>\n",
       "      <td>Atlanta</td>\n",
       "      <td>36.38</td>\n",
       "      <td>721.10</td>\n",
       "      <td>467.1192</td>\n",
       "      <td>27703</td>\n",
       "      <td>Card</td>\n",
       "      <td>Male</td>\n",
       "      <td>27</td>\n",
       "      <td>9237</td>\n",
       "      <td>21</td>\n",
       "      <td>4</td>\n",
       "      <td>2018</td>\n",
       "      <td>Rain</td>\n",
       "      <td>19.821330</td>\n",
       "      <td>253.9808</td>\n",
       "      <td>25-35</td>\n",
       "    </tr>\n",
       "    <tr>\n",
       "      <th>...</th>\n",
       "      <td>...</td>\n",
       "      <td>...</td>\n",
       "      <td>...</td>\n",
       "      <td>...</td>\n",
       "      <td>...</td>\n",
       "      <td>...</td>\n",
       "      <td>...</td>\n",
       "      <td>...</td>\n",
       "      <td>...</td>\n",
       "      <td>...</td>\n",
       "      <td>...</td>\n",
       "      <td>...</td>\n",
       "      <td>...</td>\n",
       "      <td>...</td>\n",
       "      <td>...</td>\n",
       "      <td>...</td>\n",
       "      <td>...</td>\n",
       "      <td>...</td>\n",
       "      <td>...</td>\n",
       "    </tr>\n",
       "    <tr>\n",
       "      <th>317013</th>\n",
       "      <td>10439766</td>\n",
       "      <td>2018-12-31</td>\n",
       "      <td>Yellow Cab</td>\n",
       "      <td>Seattle</td>\n",
       "      <td>21.42</td>\n",
       "      <td>342.33</td>\n",
       "      <td>275.0328</td>\n",
       "      <td>36141</td>\n",
       "      <td>Card</td>\n",
       "      <td>Female</td>\n",
       "      <td>21</td>\n",
       "      <td>14944</td>\n",
       "      <td>31</td>\n",
       "      <td>12</td>\n",
       "      <td>2018</td>\n",
       "      <td>Rain</td>\n",
       "      <td>15.981793</td>\n",
       "      <td>67.2972</td>\n",
       "      <td>18-25</td>\n",
       "    </tr>\n",
       "    <tr>\n",
       "      <th>317014</th>\n",
       "      <td>10439790</td>\n",
       "      <td>2018-01-07</td>\n",
       "      <td>Yellow Cab</td>\n",
       "      <td>Seattle</td>\n",
       "      <td>16.66</td>\n",
       "      <td>261.18</td>\n",
       "      <td>213.9144</td>\n",
       "      <td>38520</td>\n",
       "      <td>Card</td>\n",
       "      <td>Female</td>\n",
       "      <td>42</td>\n",
       "      <td>19417</td>\n",
       "      <td>7</td>\n",
       "      <td>1</td>\n",
       "      <td>2018</td>\n",
       "      <td>Rain</td>\n",
       "      <td>15.677071</td>\n",
       "      <td>47.2656</td>\n",
       "      <td>35-45</td>\n",
       "    </tr>\n",
       "    <tr>\n",
       "      <th>317015</th>\n",
       "      <td>10439838</td>\n",
       "      <td>2018-01-04</td>\n",
       "      <td>Yellow Cab</td>\n",
       "      <td>Tucson</td>\n",
       "      <td>19.00</td>\n",
       "      <td>303.77</td>\n",
       "      <td>232.5600</td>\n",
       "      <td>41414</td>\n",
       "      <td>Card</td>\n",
       "      <td>Male</td>\n",
       "      <td>38</td>\n",
       "      <td>3960</td>\n",
       "      <td>4</td>\n",
       "      <td>1</td>\n",
       "      <td>2018</td>\n",
       "      <td>Rain</td>\n",
       "      <td>15.987895</td>\n",
       "      <td>71.2100</td>\n",
       "      <td>35-45</td>\n",
       "    </tr>\n",
       "    <tr>\n",
       "      <th>317016</th>\n",
       "      <td>10439840</td>\n",
       "      <td>2018-01-06</td>\n",
       "      <td>Yellow Cab</td>\n",
       "      <td>Tucson</td>\n",
       "      <td>5.60</td>\n",
       "      <td>92.42</td>\n",
       "      <td>70.5600</td>\n",
       "      <td>41677</td>\n",
       "      <td>Cash</td>\n",
       "      <td>Male</td>\n",
       "      <td>23</td>\n",
       "      <td>19454</td>\n",
       "      <td>6</td>\n",
       "      <td>1</td>\n",
       "      <td>2018</td>\n",
       "      <td>Rain</td>\n",
       "      <td>16.503571</td>\n",
       "      <td>21.8600</td>\n",
       "      <td>18-25</td>\n",
       "    </tr>\n",
       "    <tr>\n",
       "      <th>317017</th>\n",
       "      <td>10439846</td>\n",
       "      <td>2018-01-04</td>\n",
       "      <td>Yellow Cab</td>\n",
       "      <td>Tucson</td>\n",
       "      <td>13.30</td>\n",
       "      <td>244.65</td>\n",
       "      <td>180.3480</td>\n",
       "      <td>39761</td>\n",
       "      <td>Card</td>\n",
       "      <td>Female</td>\n",
       "      <td>32</td>\n",
       "      <td>10128</td>\n",
       "      <td>4</td>\n",
       "      <td>1</td>\n",
       "      <td>2018</td>\n",
       "      <td>Rain</td>\n",
       "      <td>18.394737</td>\n",
       "      <td>64.3020</td>\n",
       "      <td>25-35</td>\n",
       "    </tr>\n",
       "  </tbody>\n",
       "</table>\n",
       "<p>317018 rows × 19 columns</p>\n",
       "</div>"
      ],
      "text/plain": [
       "        Transaction ID Date of Travel     Company     City  KM Travelled  \\\n",
       "0             10000011     2016-01-08    Pink Cab  Atlanta         30.45   \n",
       "1             10351127     2018-07-21  Yellow Cab  Atlanta         26.19   \n",
       "2             10412921     2018-11-23  Yellow Cab  Atlanta         42.55   \n",
       "3             10000012     2016-01-06    Pink Cab  Atlanta         28.62   \n",
       "4             10320494     2018-04-21  Yellow Cab  Atlanta         36.38   \n",
       "...                ...            ...         ...      ...           ...   \n",
       "317013        10439766     2018-12-31  Yellow Cab  Seattle         21.42   \n",
       "317014        10439790     2018-01-07  Yellow Cab  Seattle         16.66   \n",
       "317015        10439838     2018-01-04  Yellow Cab   Tucson         19.00   \n",
       "317016        10439840     2018-01-06  Yellow Cab   Tucson          5.60   \n",
       "317017        10439846     2018-01-04  Yellow Cab   Tucson         13.30   \n",
       "\n",
       "        Price Charged  Cost of Trip  Customer ID Payment_Mode  Gender  Age  \\\n",
       "0              370.95      313.6350        29290         Card    Male   28   \n",
       "1              598.70      317.4228        29290         Cash    Male   28   \n",
       "2              792.05      597.4020        29290         Card    Male   28   \n",
       "3              358.52      334.8540        27703         Card    Male   27   \n",
       "4              721.10      467.1192        27703         Card    Male   27   \n",
       "...               ...           ...          ...          ...     ...  ...   \n",
       "317013         342.33      275.0328        36141         Card  Female   21   \n",
       "317014         261.18      213.9144        38520         Card  Female   42   \n",
       "317015         303.77      232.5600        41414         Card    Male   38   \n",
       "317016          92.42       70.5600        41677         Cash    Male   23   \n",
       "317017         244.65      180.3480        39761         Card  Female   32   \n",
       "\n",
       "        Income (USD/Month)  Day  Month  Year  Type  Price Per KM    Profit  \\\n",
       "0                    10813    8      1  2016  Rain     12.182266   57.3150   \n",
       "1                    10813   21      7  2018  Rain     22.859870  281.2772   \n",
       "2                    10813   23     11  2018  Rain     18.614571  194.6480   \n",
       "3                     9237    6      1  2016  Rain     12.526904   23.6660   \n",
       "4                     9237   21      4  2018  Rain     19.821330  253.9808   \n",
       "...                    ...  ...    ...   ...   ...           ...       ...   \n",
       "317013               14944   31     12  2018  Rain     15.981793   67.2972   \n",
       "317014               19417    7      1  2018  Rain     15.677071   47.2656   \n",
       "317015                3960    4      1  2018  Rain     15.987895   71.2100   \n",
       "317016               19454    6      1  2018  Rain     16.503571   21.8600   \n",
       "317017               10128    4      1  2018  Rain     18.394737   64.3020   \n",
       "\n",
       "       Age Group  \n",
       "0          25-35  \n",
       "1          25-35  \n",
       "2          25-35  \n",
       "3          25-35  \n",
       "4          25-35  \n",
       "...          ...  \n",
       "317013     18-25  \n",
       "317014     35-45  \n",
       "317015     35-45  \n",
       "317016     18-25  \n",
       "317017     25-35  \n",
       "\n",
       "[317018 rows x 19 columns]"
      ]
     },
     "execution_count": 5,
     "metadata": {},
     "output_type": "execute_result"
    }
   ],
   "source": [
    "df"
   ]
  },
  {
   "cell_type": "markdown",
   "id": "65e19026",
   "metadata": {},
   "source": [
    "-----------------"
   ]
  },
  {
   "cell_type": "markdown",
   "id": "da381b7e",
   "metadata": {},
   "source": [
    "## How are companies by earnings?"
   ]
  },
  {
   "cell_type": "code",
   "execution_count": 6,
   "id": "6e2d80fd",
   "metadata": {},
   "outputs": [
    {
     "data": {
      "image/png": "[encoded data removed]",
      "text/plain": [
       "<Figure size 1000x600 with 1 Axes>"
      ]
     },
     "metadata": {},
     "output_type": "display_data"
    }
   ],
   "source": [
    "company_profit = df.groupby('Company')['Profit'].sum().sort_values(ascending=False)\n",
    "\n",
    "plt.figure(figsize=(10, 6))\n",
    "sns.barplot(x=company_profit.index, y=company_profit.values, palette='viridis')\n",
    "plt.title('Total Profits of Taxi Companies')\n",
    "plt.ylabel('Total Profit')\n",
    "plt.xlabel('Taxi Company')\n",
    "plt.show()"
   ]
  },
  {
   "cell_type": "markdown",
   "id": "570c42e5",
   "metadata": {},
   "source": [
    "------------------------"
   ]
  },
  {
   "cell_type": "markdown",
   "id": "de4d92b3",
   "metadata": {},
   "source": [
    "## Which demographic group uses taxis more often?"
   ]
  },
  {
   "cell_type": "code",
   "execution_count": 7,
   "id": "f5240424",
   "metadata": {},
   "outputs": [
    {
     "data": {
      "image/png": "[encoded data removed]",
      "text/plain": [
       "<Figure size 1000x600 with 1 Axes>"
      ]
     },
     "metadata": {},
     "output_type": "display_data"
    }
   ],
   "source": [
    "demographic_usage = df.groupby('Age Group')['Transaction ID'].count().sort_values(ascending=False)\n",
    "\n",
    "plt.figure(figsize=(10, 6))\n",
    "sns.barplot(x=demographic_usage.index, y=demographic_usage.values, palette='viridis')\n",
    "plt.title('Taxi Usage by Age Group')\n",
    "plt.ylabel('Total Number of Rides')\n",
    "plt.xlabel('Age Group')\n",
    "plt.show()"
   ]
  },
  {
   "cell_type": "markdown",
   "id": "6324c380",
   "metadata": {},
   "source": [
    "----------------------------"
   ]
  },
  {
   "cell_type": "markdown",
   "id": "80c7a880",
   "metadata": {},
   "source": [
    "## Which taxi company is more popular in which city?"
   ]
  },
  {
   "cell_type": "code",
   "execution_count": 8,
   "id": "56a94534",
   "metadata": {},
   "outputs": [
    {
     "data": {
      "image/png": "[encoded data removed]",
      "text/plain": [
       "<Figure size 1500x700 with 1 Axes>"
      ]
     },
     "metadata": {},
     "output_type": "display_data"
    }
   ],
   "source": [
    "city_company_popularity = df.groupby(['City', 'Company'])['Transaction ID'].count().unstack()\n",
    "\n",
    "city_company_popularity.plot(kind='bar', stacked=True, figsize=(15, 7))\n",
    "plt.title('Popularity of Taxi Companies by City')\n",
    "plt.ylabel('Total Number of Rides')\n",
    "plt.xlabel('City')\n",
    "plt.show()"
   ]
  },
  {
   "cell_type": "markdown",
   "id": "f11cc71d",
   "metadata": {},
   "source": [
    "-----------------"
   ]
  },
  {
   "cell_type": "markdown",
   "id": "f6fd10ec",
   "metadata": {},
   "source": [
    "## Which age group uses taxis the most?"
   ]
  },
  {
   "cell_type": "code",
   "execution_count": 9,
   "id": "286bcd89",
   "metadata": {},
   "outputs": [
    {
     "data": {
      "text/plain": [
       "('25-35', 100850)"
      ]
     },
     "execution_count": 9,
     "metadata": {},
     "output_type": "execute_result"
    }
   ],
   "source": [
    "demographic_usage = df.groupby('Age Group')['Transaction ID'].count()\n",
    "highest_usage_age_group = demographic_usage.idxmax()\n",
    "highest_usage = demographic_usage.max()\n",
    "\n",
    "highest_usage_age_group, highest_usage\n"
   ]
  },
  {
   "cell_type": "markdown",
   "id": "ad48e6e9",
   "metadata": {},
   "source": [
    "-----------------"
   ]
  },
  {
   "cell_type": "markdown",
   "id": "7a698363",
   "metadata": {},
   "source": [
    "##  In which city is the Pink Cab company more popular than the Yellow Cab company?"
   ]
  },
  {
   "cell_type": "code",
   "execution_count": 10,
   "id": "fc055c59",
   "metadata": {},
   "outputs": [
    {
     "data": {
      "text/plain": [
       "['Nashville', 'Pittsburgh', 'Sacramento', 'San Diego']"
      ]
     },
     "execution_count": 10,
     "metadata": {},
     "output_type": "execute_result"
    }
   ],
   "source": [
    "city_company_popularity = df[df['Company'] == 'Pink Cab'].groupby('City')['Transaction ID'].count()\n",
    "city_yellow_popularity = df[df['Company'] == 'Yellow Cab'].groupby('City')['Transaction ID'].count()\n",
    "\n",
    "cities_where_pink_more_popular = city_company_popularity[city_company_popularity > city_yellow_popularity].index.tolist()\n",
    "cities_where_pink_more_popular\n"
   ]
  },
  {
   "cell_type": "markdown",
   "id": "dee70414",
   "metadata": {},
   "source": [
    "------------------"
   ]
  },
  {
   "cell_type": "markdown",
   "id": "61a2979f",
   "metadata": {},
   "source": [
    "## Which payment mode is more popular among customers?"
   ]
  },
  {
   "cell_type": "code",
   "execution_count": 11,
   "id": "029829a5",
   "metadata": {},
   "outputs": [
    {
     "data": {
      "text/plain": [
       "('Card', 190091)"
      ]
     },
     "execution_count": 11,
     "metadata": {},
     "output_type": "execute_result"
    }
   ],
   "source": [
    "payment_mode_popularity = df.groupby('Payment_Mode')['Transaction ID'].count()\n",
    "most_popular_payment_mode = payment_mode_popularity.idxmax()\n",
    "number_of_transactions = payment_mode_popularity.max()\n",
    "\n",
    "most_popular_payment_mode, number_of_transactions\n"
   ]
  },
  {
   "cell_type": "markdown",
   "id": "41fd32fe",
   "metadata": {},
   "source": [
    "-------------------------"
   ]
  },
  {
   "cell_type": "markdown",
   "id": "99adf10c",
   "metadata": {},
   "source": [
    "## Which gender predominates in taxi usage?"
   ]
  },
  {
   "cell_type": "code",
   "execution_count": 12,
   "id": "182c69a6",
   "metadata": {},
   "outputs": [
    {
     "data": {
      "text/plain": [
       "('Male', 182962)"
      ]
     },
     "execution_count": 12,
     "metadata": {},
     "output_type": "execute_result"
    }
   ],
   "source": [
    "gender_usage = df.groupby('Gender')['Transaction ID'].count()\n",
    "predominant_gender = gender_usage.idxmax()\n",
    "gender_usage_count = gender_usage.max()\n",
    "\n",
    "predominant_gender, gender_usage_count\n"
   ]
  },
  {
   "cell_type": "markdown",
   "id": "95143e18",
   "metadata": {},
   "source": [
    "--------------------"
   ]
  },
  {
   "cell_type": "markdown",
   "id": "66d9404e",
   "metadata": {},
   "source": [
    "## During which months do people use taxis the most?"
   ]
  },
  {
   "cell_type": "code",
   "execution_count": 13,
   "id": "d2343138",
   "metadata": {},
   "outputs": [
    {
     "data": {
      "text/plain": [
       "(12, 41649)"
      ]
     },
     "execution_count": 13,
     "metadata": {},
     "output_type": "execute_result"
    }
   ],
   "source": [
    "df['Month'] = pd.to_datetime(df['Date of Travel']).dt.month\n",
    "month_usage = df.groupby('Month')['Transaction ID'].count()\n",
    "peak_month = month_usage.idxmax()\n",
    "peak_month_usage = month_usage.max()\n",
    "\n",
    "peak_month, peak_month_usage\n"
   ]
  },
  {
   "cell_type": "markdown",
   "id": "4dfcf611",
   "metadata": {},
   "source": [
    "--------------------------"
   ]
  },
  {
   "cell_type": "markdown",
   "id": "00ab71ab",
   "metadata": {},
   "source": [
    "## In which city is taxi usage the least?"
   ]
  },
  {
   "cell_type": "code",
   "execution_count": 14,
   "id": "032254d9",
   "metadata": {},
   "outputs": [
    {
     "data": {
      "text/plain": [
       "('Pittsburgh', 1313)"
      ]
     },
     "execution_count": 14,
     "metadata": {},
     "output_type": "execute_result"
    }
   ],
   "source": [
    "city_usage = df.groupby('City')['Transaction ID'].count()\n",
    "least_used_city = city_usage.idxmin()\n",
    "city_usage_count = city_usage.min()\n",
    "\n",
    "least_used_city, city_usage_count\n"
   ]
  },
  {
   "cell_type": "markdown",
   "id": "7b91f16a",
   "metadata": {},
   "source": [
    "---------------------"
   ]
  },
  {
   "cell_type": "markdown",
   "id": "94c7f1bc",
   "metadata": {},
   "source": [
    "# Conclusion"
   ]
  },
  {
   "cell_type": "markdown",
   "id": "e5f4bc71",
   "metadata": {},
   "source": [
    "## By closely examining taxi usage patterns, demographic preferences, and company ratings, XYZ company can make informed decisions about their investments in the taxi industry. The data-driven insights provided above offer a comprehensive understanding of current market dynamics."
   ]
  },
  {
   "cell_type": "code",
   "execution_count": null,
   "id": "acc26b31",
   "metadata": {},
   "outputs": [],
   "source": []
  }
 ],
 "metadata": {
  "kernelspec": {
   "display_name": "Python 3 (ipykernel)",
   "language": "python",
   "name": "python3"
  },
  "language_info": {
   "codemirror_mode": {
    "name": "ipython",
    "version": 3
   },
   "file_extension": ".py",
   "mimetype": "text/x-python",
   "name": "python",
   "nbconvert_exporter": "python",
   "pygments_lexer": "ipython3",
   "version": "3.10.9"
  }
 },
 "nbformat": 4,
 "nbformat_minor": 5
}
