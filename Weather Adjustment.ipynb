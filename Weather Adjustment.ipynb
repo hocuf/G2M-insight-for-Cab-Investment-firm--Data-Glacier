{
 "cells": [
  {
   "cell_type": "markdown",
   "id": "2fe857a2",
   "metadata": {},
   "source": [
    "# Weather Adjustment"
   ]
  },
  {
   "cell_type": "markdown",
   "id": "00d3120e",
   "metadata": {},
   "source": [
    "**About Dataset** \n",
    "\n",
    "This repository contains a comprehensive collection of weather events data across 49 states in the United States. The dataset comprises a staggering 8.6 million events, ranging from regular occurrences like rain and snow to extreme weather phenomena such as storms and freezing conditions. The data spans from January 2016 to December 2022 and is sourced from 2,071 airport-based weather stations nationwide. For more detailed information about the dataset, refer to the official dataset page."
   ]
  },
  {
   "cell_type": "markdown",
   "id": "1c5b76c3",
   "metadata": {},
   "source": [
    "**Source**: https://www.kaggle.com/datasets/sobhanmoosavi/us-weather-events"
   ]
  },
  {
   "cell_type": "markdown",
   "id": "d549124d",
   "metadata": {},
   "source": [
    "The data processing steps using Python's pandas library are summarized below:\n",
    "\n",
    "- Data is imported from a CSV file with the name \"WeatherEvents_Jan2016-Dec2022.csv\".\n",
    "- The size of the data frame is inspected.\n",
    "- The first few lines are previewed.\n",
    "- The \"StartTime(UTC)\" column is converted to a date-time object.\n",
    "- A new data frame is created by selecting the relevant columns.\n",
    "- New columns are created by parsing the date information (\"StartDate\" and \"Date\").\n",
    "- The \"StartTime(UTC)\" column, which is no longer needed, is removed.\n",
    "- After grouping by date and city, the specified function is applied to each group.\n",
    "- The results are saved in a new data frame named \"most_common_daily_types\".\n",
    "- The resulting data frame is exported as \"filtered_weather_2016_2018.csv\".\n",
    "\n",
    "\n",
    "With these operations, data cleaning and analysis steps are performed to create a dataset containing summary information on weather severity."
   ]
  },
  {
   "cell_type": "code",
   "execution_count": 12,
   "id": "31ce1abe",
   "metadata": {},
   "outputs": [],
   "source": [
    "import pandas as pd"
   ]
  },
  {
   "cell_type": "code",
   "execution_count": 13,
   "id": "48443c2e",
   "metadata": {},
   "outputs": [],
   "source": [
    "weather = pd.read_csv(\"WeatherEvents_Jan2016-Dec2022.csv\")"
   ]
  },
  {
   "cell_type": "code",
   "execution_count": 14,
   "id": "92627b80",
   "metadata": {},
   "outputs": [
    {
     "data": {
      "text/plain": [
       "(8627181, 14)"
      ]
     },
     "execution_count": 14,
     "metadata": {},
     "output_type": "execute_result"
    }
   ],
   "source": [
    "weather.shape"
   ]
  },
  {
   "cell_type": "code",
   "execution_count": 28,
   "id": "645b8005",
   "metadata": {},
   "outputs": [
    {
     "data": {
      "text/html": [
       "<div>\n",
       "<style scoped>\n",
       "    .dataframe tbody tr th:only-of-type {\n",
       "        vertical-align: middle;\n",
       "    }\n",
       "\n",
       "    .dataframe tbody tr th {\n",
       "        vertical-align: top;\n",
       "    }\n",
       "\n",
       "    .dataframe thead th {\n",
       "        text-align: right;\n",
       "    }\n",
       "</style>\n",
       "<table border=\"1\" class=\"dataframe\">\n",
       "  <thead>\n",
       "    <tr style=\"text-align: right;\">\n",
       "      <th></th>\n",
       "      <th>EventId</th>\n",
       "      <th>Type</th>\n",
       "      <th>Severity</th>\n",
       "      <th>StartTime(UTC)</th>\n",
       "      <th>EndTime(UTC)</th>\n",
       "      <th>Precipitation(in)</th>\n",
       "      <th>TimeZone</th>\n",
       "      <th>AirportCode</th>\n",
       "      <th>LocationLat</th>\n",
       "      <th>LocationLng</th>\n",
       "      <th>City</th>\n",
       "      <th>County</th>\n",
       "      <th>State</th>\n",
       "      <th>ZipCode</th>\n",
       "    </tr>\n",
       "  </thead>\n",
       "  <tbody>\n",
       "    <tr>\n",
       "      <th>0</th>\n",
       "      <td>W-1</td>\n",
       "      <td>Snow</td>\n",
       "      <td>Light</td>\n",
       "      <td>2016-01-06 23:14:00</td>\n",
       "      <td>2016-01-07 00:34:00</td>\n",
       "      <td>0.00</td>\n",
       "      <td>US/Mountain</td>\n",
       "      <td>K04V</td>\n",
       "      <td>38.0972</td>\n",
       "      <td>-106.1689</td>\n",
       "      <td>Saguache</td>\n",
       "      <td>Saguache</td>\n",
       "      <td>CO</td>\n",
       "      <td>81149.0</td>\n",
       "    </tr>\n",
       "    <tr>\n",
       "      <th>1</th>\n",
       "      <td>W-2</td>\n",
       "      <td>Snow</td>\n",
       "      <td>Light</td>\n",
       "      <td>2016-01-07 04:14:00</td>\n",
       "      <td>2016-01-07 04:54:00</td>\n",
       "      <td>0.00</td>\n",
       "      <td>US/Mountain</td>\n",
       "      <td>K04V</td>\n",
       "      <td>38.0972</td>\n",
       "      <td>-106.1689</td>\n",
       "      <td>Saguache</td>\n",
       "      <td>Saguache</td>\n",
       "      <td>CO</td>\n",
       "      <td>81149.0</td>\n",
       "    </tr>\n",
       "    <tr>\n",
       "      <th>2</th>\n",
       "      <td>W-3</td>\n",
       "      <td>Snow</td>\n",
       "      <td>Light</td>\n",
       "      <td>2016-01-07 05:54:00</td>\n",
       "      <td>2016-01-07 15:34:00</td>\n",
       "      <td>0.03</td>\n",
       "      <td>US/Mountain</td>\n",
       "      <td>K04V</td>\n",
       "      <td>38.0972</td>\n",
       "      <td>-106.1689</td>\n",
       "      <td>Saguache</td>\n",
       "      <td>Saguache</td>\n",
       "      <td>CO</td>\n",
       "      <td>81149.0</td>\n",
       "    </tr>\n",
       "    <tr>\n",
       "      <th>3</th>\n",
       "      <td>W-4</td>\n",
       "      <td>Snow</td>\n",
       "      <td>Light</td>\n",
       "      <td>2016-01-08 05:34:00</td>\n",
       "      <td>2016-01-08 05:54:00</td>\n",
       "      <td>0.00</td>\n",
       "      <td>US/Mountain</td>\n",
       "      <td>K04V</td>\n",
       "      <td>38.0972</td>\n",
       "      <td>-106.1689</td>\n",
       "      <td>Saguache</td>\n",
       "      <td>Saguache</td>\n",
       "      <td>CO</td>\n",
       "      <td>81149.0</td>\n",
       "    </tr>\n",
       "    <tr>\n",
       "      <th>4</th>\n",
       "      <td>W-5</td>\n",
       "      <td>Snow</td>\n",
       "      <td>Light</td>\n",
       "      <td>2016-01-08 13:54:00</td>\n",
       "      <td>2016-01-08 15:54:00</td>\n",
       "      <td>0.00</td>\n",
       "      <td>US/Mountain</td>\n",
       "      <td>K04V</td>\n",
       "      <td>38.0972</td>\n",
       "      <td>-106.1689</td>\n",
       "      <td>Saguache</td>\n",
       "      <td>Saguache</td>\n",
       "      <td>CO</td>\n",
       "      <td>81149.0</td>\n",
       "    </tr>\n",
       "  </tbody>\n",
       "</table>\n",
       "</div>"
      ],
      "text/plain": [
       "  EventId  Type Severity       StartTime(UTC)         EndTime(UTC)  \\\n",
       "0     W-1  Snow    Light  2016-01-06 23:14:00  2016-01-07 00:34:00   \n",
       "1     W-2  Snow    Light  2016-01-07 04:14:00  2016-01-07 04:54:00   \n",
       "2     W-3  Snow    Light  2016-01-07 05:54:00  2016-01-07 15:34:00   \n",
       "3     W-4  Snow    Light  2016-01-08 05:34:00  2016-01-08 05:54:00   \n",
       "4     W-5  Snow    Light  2016-01-08 13:54:00  2016-01-08 15:54:00   \n",
       "\n",
       "   Precipitation(in)     TimeZone AirportCode  LocationLat  LocationLng  \\\n",
       "0               0.00  US/Mountain        K04V      38.0972    -106.1689   \n",
       "1               0.00  US/Mountain        K04V      38.0972    -106.1689   \n",
       "2               0.03  US/Mountain        K04V      38.0972    -106.1689   \n",
       "3               0.00  US/Mountain        K04V      38.0972    -106.1689   \n",
       "4               0.00  US/Mountain        K04V      38.0972    -106.1689   \n",
       "\n",
       "       City    County State  ZipCode  \n",
       "0  Saguache  Saguache    CO  81149.0  \n",
       "1  Saguache  Saguache    CO  81149.0  \n",
       "2  Saguache  Saguache    CO  81149.0  \n",
       "3  Saguache  Saguache    CO  81149.0  \n",
       "4  Saguache  Saguache    CO  81149.0  "
      ]
     },
     "execution_count": 28,
     "metadata": {},
     "output_type": "execute_result"
    }
   ],
   "source": [
    "weather.head()"
   ]
  },
  {
   "cell_type": "markdown",
   "id": "0bacfcd8",
   "metadata": {},
   "source": [
    "---------------------------"
   ]
  },
  {
   "cell_type": "markdown",
   "id": "5e64d5a8",
   "metadata": {},
   "source": [
    "**Grouping operation to find the most common daily weather types**"
   ]
  },
  {
   "cell_type": "code",
   "execution_count": 18,
   "id": "b82b26da",
   "metadata": {},
   "outputs": [],
   "source": [
    "most_common_daily_types = filtered_weather.groupby(['City', filtered_weather['StartTime(UTC)'].dt.date])['Type'].apply(lambda x: x.value_counts().idxmax()).reset_index()"
   ]
  },
  {
   "cell_type": "markdown",
   "id": "7b307428",
   "metadata": {},
   "source": [
    "----------------------------"
   ]
  },
  {
   "cell_type": "code",
   "execution_count": 19,
   "id": "b135c0e0",
   "metadata": {},
   "outputs": [],
   "source": [
    "most_common_daily_types.columns = ['City', 'Date', 'Type']"
   ]
  },
  {
   "cell_type": "code",
   "execution_count": 26,
   "id": "c9f1aefd",
   "metadata": {},
   "outputs": [
    {
     "data": {
      "text/html": [
       "<div>\n",
       "<style scoped>\n",
       "    .dataframe tbody tr th:only-of-type {\n",
       "        vertical-align: middle;\n",
       "    }\n",
       "\n",
       "    .dataframe tbody tr th {\n",
       "        vertical-align: top;\n",
       "    }\n",
       "\n",
       "    .dataframe thead th {\n",
       "        text-align: right;\n",
       "    }\n",
       "</style>\n",
       "<table border=\"1\" class=\"dataframe\">\n",
       "  <thead>\n",
       "    <tr style=\"text-align: right;\">\n",
       "      <th></th>\n",
       "      <th>City</th>\n",
       "      <th>Date</th>\n",
       "      <th>Type</th>\n",
       "    </tr>\n",
       "  </thead>\n",
       "  <tbody>\n",
       "    <tr>\n",
       "      <th>605540</th>\n",
       "      <td>Oakes</td>\n",
       "      <td>2018-03-11</td>\n",
       "      <td>Fog</td>\n",
       "    </tr>\n",
       "    <tr>\n",
       "      <th>481354</th>\n",
       "      <td>Luray</td>\n",
       "      <td>2018-02-07</td>\n",
       "      <td>Rain</td>\n",
       "    </tr>\n",
       "    <tr>\n",
       "      <th>132702</th>\n",
       "      <td>Chandler</td>\n",
       "      <td>2016-09-01</td>\n",
       "      <td>Rain</td>\n",
       "    </tr>\n",
       "    <tr>\n",
       "      <th>98148</th>\n",
       "      <td>Brooksville</td>\n",
       "      <td>2017-07-09</td>\n",
       "      <td>Rain</td>\n",
       "    </tr>\n",
       "    <tr>\n",
       "      <th>113763</th>\n",
       "      <td>Camden</td>\n",
       "      <td>2018-09-26</td>\n",
       "      <td>Rain</td>\n",
       "    </tr>\n",
       "    <tr>\n",
       "      <th>442626</th>\n",
       "      <td>Lamoni</td>\n",
       "      <td>2017-09-03</td>\n",
       "      <td>Fog</td>\n",
       "    </tr>\n",
       "    <tr>\n",
       "      <th>60214</th>\n",
       "      <td>Belgrade</td>\n",
       "      <td>2017-01-05</td>\n",
       "      <td>Cold</td>\n",
       "    </tr>\n",
       "    <tr>\n",
       "      <th>467892</th>\n",
       "      <td>Llano South</td>\n",
       "      <td>2017-12-17</td>\n",
       "      <td>Rain</td>\n",
       "    </tr>\n",
       "    <tr>\n",
       "      <th>515743</th>\n",
       "      <td>Meadville</td>\n",
       "      <td>2017-10-16</td>\n",
       "      <td>Rain</td>\n",
       "    </tr>\n",
       "    <tr>\n",
       "      <th>874883</th>\n",
       "      <td>West Chester</td>\n",
       "      <td>2018-01-08</td>\n",
       "      <td>Snow</td>\n",
       "    </tr>\n",
       "    <tr>\n",
       "      <th>135665</th>\n",
       "      <td>Charleston</td>\n",
       "      <td>2018-07-04</td>\n",
       "      <td>Rain</td>\n",
       "    </tr>\n",
       "    <tr>\n",
       "      <th>105560</th>\n",
       "      <td>Burlington</td>\n",
       "      <td>2016-10-12</td>\n",
       "      <td>Rain</td>\n",
       "    </tr>\n",
       "    <tr>\n",
       "      <th>775473</th>\n",
       "      <td>Spokane</td>\n",
       "      <td>2017-02-25</td>\n",
       "      <td>Fog</td>\n",
       "    </tr>\n",
       "    <tr>\n",
       "      <th>395207</th>\n",
       "      <td>Indianapolis</td>\n",
       "      <td>2018-12-26</td>\n",
       "      <td>Fog</td>\n",
       "    </tr>\n",
       "  </tbody>\n",
       "</table>\n",
       "</div>"
      ],
      "text/plain": [
       "                City        Date  Type\n",
       "605540         Oakes  2018-03-11   Fog\n",
       "481354         Luray  2018-02-07  Rain\n",
       "132702      Chandler  2016-09-01  Rain\n",
       "98148    Brooksville  2017-07-09  Rain\n",
       "113763        Camden  2018-09-26  Rain\n",
       "442626        Lamoni  2017-09-03   Fog\n",
       "60214       Belgrade  2017-01-05  Cold\n",
       "467892   Llano South  2017-12-17  Rain\n",
       "515743     Meadville  2017-10-16  Rain\n",
       "874883  West Chester  2018-01-08  Snow\n",
       "135665    Charleston  2018-07-04  Rain\n",
       "105560    Burlington  2016-10-12  Rain\n",
       "775473       Spokane  2017-02-25   Fog\n",
       "395207  Indianapolis  2018-12-26   Fog"
      ]
     },
     "execution_count": 26,
     "metadata": {},
     "output_type": "execute_result"
    }
   ],
   "source": [
    "most_common_daily_types.sample(14)"
   ]
  },
  {
   "cell_type": "code",
   "execution_count": 24,
   "id": "cd03e9a4",
   "metadata": {},
   "outputs": [
    {
     "data": {
      "text/plain": [
       "City    0\n",
       "Date    0\n",
       "Type    0\n",
       "dtype: int64"
      ]
     },
     "execution_count": 24,
     "metadata": {},
     "output_type": "execute_result"
    }
   ],
   "source": [
    "most_common_daily_types.isnull().sum()"
   ]
  },
  {
   "cell_type": "code",
   "execution_count": 25,
   "id": "e26c0cd0",
   "metadata": {},
   "outputs": [
    {
     "name": "stdout",
     "output_type": "stream",
     "text": [
      "<class 'pandas.core.frame.DataFrame'>\n",
      "RangeIndex: 908359 entries, 0 to 908358\n",
      "Data columns (total 3 columns):\n",
      " #   Column  Non-Null Count   Dtype \n",
      "---  ------  --------------   ----- \n",
      " 0   City    908359 non-null  object\n",
      " 1   Date    908359 non-null  object\n",
      " 2   Type    908359 non-null  object\n",
      "dtypes: object(3)\n",
      "memory usage: 20.8+ MB\n"
     ]
    }
   ],
   "source": [
    "most_common_daily_types.info()"
   ]
  },
  {
   "cell_type": "code",
   "execution_count": 27,
   "id": "daa89eeb",
   "metadata": {},
   "outputs": [],
   "source": [
    "most_common_daily_types.to_csv(\"filtered_weather_2016_2018.csv\", index=False)"
   ]
  }
 ],
 "metadata": {
  "kernelspec": {
   "display_name": "Python 3 (ipykernel)",
   "language": "python",
   "name": "python3"
  },
  "language_info": {
   "codemirror_mode": {
    "name": "ipython",
    "version": 3
   },
   "file_extension": ".py",
   "mimetype": "text/x-python",
   "name": "python",
   "nbconvert_exporter": "python",
   "pygments_lexer": "ipython3",
   "version": "3.10.9"
  }
 },
 "nbformat": 4,
 "nbformat_minor": 5
}
